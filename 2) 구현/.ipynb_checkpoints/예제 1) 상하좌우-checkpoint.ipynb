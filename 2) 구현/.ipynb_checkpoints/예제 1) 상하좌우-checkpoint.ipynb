{
 "cells": [
  {
   "cell_type": "code",
   "execution_count": null,
   "id": "c456c949",
   "metadata": {},
   "outputs": [],
   "source": [
    "import sys\n",
    "n = int(sys.stdin.readline())\n",
    "plans = sys.stdin.readline().strip().split()\n",
    "\n",
    "x, y = 0, 0\n",
    "\n",
    "def in_range(x, y):\n",
    "    return x >= 0 and x < n and y >= 0 and y < n\n",
    "\n",
    "# L R U D\n",
    "dx = [0, 0, -1, 1]\n",
    "dy = [-1, 1, 0, 0]\n",
    "\n",
    "mapper = {\n",
    "    'L': 0,\n",
    "    'R': 1,\n",
    "    'U': 2,\n",
    "    'D': 3\n",
    "}\n",
    "\n",
    "for plan in plans:\n",
    "    nx = x + dx[mapper[plan]]\n",
    "    ny = y + dy[mapper[plan]]\n",
    "\n",
    "    if in_range(nx, ny):\n",
    "        x, y = nx, ny\n",
    "\n",
    "print(x+1, y+1)"
   ]
  }
 ],
 "metadata": {
  "kernelspec": {
   "display_name": "Python 3",
   "language": "python",
   "name": "python3"
  },
  "language_info": {
   "codemirror_mode": {
    "name": "ipython",
    "version": 3
   },
   "file_extension": ".py",
   "mimetype": "text/x-python",
   "name": "python",
   "nbconvert_exporter": "python",
   "pygments_lexer": "ipython3",
   "version": "3.8.8"
  }
 },
 "nbformat": 4,
 "nbformat_minor": 5
}
