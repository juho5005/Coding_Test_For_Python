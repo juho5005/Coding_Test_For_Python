{
 "cells": [
  {
   "cell_type": "code",
   "execution_count": null,
   "id": "316f7576",
   "metadata": {},
   "outputs": [],
   "source": [
    "# 8 * 8 graph\n",
    "# 나이트는 L자 형태로만 이동 가능\n",
    "# 행 (1 ~ 8) , 열 (a ~ h)\n",
    "\n",
    "import sys\n",
    "order = sys.stdin.readline().rstrip()\n",
    "\n",
    "# 좌표를 임의로 (0, 0) 시작 설정\n",
    "x = int(order[1]) - 1\n",
    "y = ord(order[0]) - ord('a')\n",
    "\n",
    "# 나이트의 이동 (L자 형태)\n",
    "dxs = [2, 2, -2, -2, 1, -1, 1, -1]\n",
    "dys = [1, -1, 1, -1, 2, 2, -2, -2]\n",
    "\n",
    "\n",
    "def in_range(x, y):\n",
    "    return x >= 0 and x < 8 and y >= 0 and y < 8\n",
    "\n",
    "\n",
    "cnt = 0\n",
    "for dx, dy in zip(dxs, dys):\n",
    "    nx, ny = x+dx, y+dy\n",
    "\n",
    "    if in_range(nx, ny):\n",
    "        cnt += 1\n",
    "\n",
    "print(cnt)"
   ]
  }
 ],
 "metadata": {
  "kernelspec": {
   "display_name": "Python 3",
   "language": "python",
   "name": "python3"
  },
  "language_info": {
   "codemirror_mode": {
    "name": "ipython",
    "version": 3
   },
   "file_extension": ".py",
   "mimetype": "text/x-python",
   "name": "python",
   "nbconvert_exporter": "python",
   "pygments_lexer": "ipython3",
   "version": "3.8.8"
  }
 },
 "nbformat": 4,
 "nbformat_minor": 5
}
