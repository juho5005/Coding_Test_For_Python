{
 "cells": [
  {
   "cell_type": "markdown",
   "id": "0b77063a",
   "metadata": {},
   "source": [
    "# 예제 4-1 (상하좌우)"
   ]
  },
  {
   "cell_type": "code",
   "execution_count": 1,
   "id": "c13d8a52",
   "metadata": {},
   "outputs": [
    {
     "name": "stdout",
     "output_type": "stream",
     "text": [
      "5\n",
      "R R R U D D \n",
      "3 4\n"
     ]
    }
   ],
   "source": [
    "n = int(input()) # 공간의 크기 N이 주어짐\n",
    "\n",
    "p = list(input().split()) # 이동할 방향 계획서 띄어쓰기 기준으로 리스트화\n",
    "\n",
    "x, y = 1, 1 # 초기좌표값 제시\n",
    "\n",
    "for i in range(len(p)) : # 방향을 하나씩 받아줌\n",
    "    if p[i] == 'R' :\n",
    "        if y + 1 > n :\n",
    "            continue\n",
    "        y += 1\n",
    "        \n",
    "    elif p[i] == 'L' :\n",
    "        if y - 1 < 1 :\n",
    "            continue\n",
    "        y -= 1\n",
    "    \n",
    "    elif p[i] == 'U' :\n",
    "        if x - 1 < 1 :\n",
    "            continue\n",
    "        x -= 1\n",
    "        \n",
    "    elif p[i] == 'D' :\n",
    "        if x + 1 > n :\n",
    "            continue\n",
    "        x += 1\n",
    "print(\"%d %d\" % (x,y))\n",
    "        \n",
    "        \n"
   ]
  },
  {
   "cell_type": "markdown",
   "id": "56926b61",
   "metadata": {},
   "source": [
    "### 답지 풀이"
   ]
  },
  {
   "cell_type": "code",
   "execution_count": 5,
   "id": "53fdb75b",
   "metadata": {},
   "outputs": [
    {
     "name": "stdout",
     "output_type": "stream",
     "text": [
      "5\n",
      "R R R U D D \n",
      "3 4\n"
     ]
    }
   ],
   "source": [
    "n = int(input()) #n의 크기\n",
    "plans = input().split() # 계획서 (띄어쓰기 기준)\n",
    "x,y = 1,1 # 초기좌표 \n",
    "\n",
    "# L, R, U, D 기준\n",
    "dx = [0, 0, -1, 1]\n",
    "dy = [-1, 1, 0, 0]\n",
    "\n",
    "# 계획서 타입\n",
    "types = ['L', 'R', 'U', 'D']\n",
    "\n",
    "# 계획서를 하나하나 살펴봄\n",
    "for plan in plans :\n",
    "    # 계획서의 타입의 개수만큼 반복문 \n",
    "    for i in range(len(types)) :\n",
    "        if plan == types[i] :\n",
    "            nx = x + dx[i]\n",
    "            ny = y + dy[i]\n",
    "        \n",
    "    if nx < 1 or nx > n or ny < 1 or ny > n :\n",
    "        continue\n",
    "    x = nx\n",
    "    y = ny\n",
    "print(x,y)\n",
    "        "
   ]
  },
  {
   "cell_type": "markdown",
   "id": "3e2af387",
   "metadata": {},
   "source": [
    "# 예제 4-2 (시각)\n",
    "## 문제가 만약 3이 포함된다고 제시 안해주고 k가 포함된다고하면 못풂 (답지참조)"
   ]
  },
  {
   "cell_type": "code",
   "execution_count": 6,
   "id": "56c0f949",
   "metadata": {},
   "outputs": [
    {
     "name": "stdout",
     "output_type": "stream",
     "text": [
      "23\n",
      "43875\n"
     ]
    }
   ],
   "source": [
    "n = int(input()) # 정수 N 입력  단) 0<= N <= 23\n",
    "\n",
    "case = 0 #모든 경우의 수\n",
    "\n",
    "for i in range(0, n+1) :\n",
    "    if i == 3 or i == 13 or i == 23 :\n",
    "        case += 60 * 60\n",
    "    else :\n",
    "        case += (15 * 60) + (15 * 60) - (15 * 15) \n",
    "        #3,13,23,30~39,43,53 까지 총 15개가 포함된다 0~60안에는\n",
    "print(case)\n"
   ]
  },
  {
   "cell_type": "markdown",
   "id": "1e30b48b",
   "metadata": {},
   "source": [
    "### 답지풀이\n"
   ]
  },
  {
   "cell_type": "code",
   "execution_count": 9,
   "id": "03491712",
   "metadata": {
    "scrolled": true
   },
   "outputs": [
    {
     "name": "stdout",
     "output_type": "stream",
     "text": [
      "23\n",
      "43875\n"
     ]
    }
   ],
   "source": [
    "n = int(input())\n",
    "\n",
    "count =0\n",
    "\n",
    "for i in range(n+1) :\n",
    "    for j in range(60) :\n",
    "        for k in range(60) :\n",
    "            if '3' in (str(i) + str(j) + str(k)) :\n",
    "                count +=1 \n",
    "print(count)"
   ]
  },
  {
   "cell_type": "markdown",
   "id": "c0adaa47",
   "metadata": {},
   "source": [
    "### 세부조건\n",
    "### i,j,k가 10보다 작은경우 05, 08이런식으로 나오지 않으므로 임의적으로 붙여줘야함"
   ]
  },
  {
   "cell_type": "code",
   "execution_count": 10,
   "id": "9acc5d9a",
   "metadata": {},
   "outputs": [
    {
     "name": "stdout",
     "output_type": "stream",
     "text": [
      "5\n",
      "11475\n"
     ]
    }
   ],
   "source": [
    "# 해설오류?\n",
    "n = int(input())\n",
    "\n",
    "count =0\n",
    "\n",
    "for i in range(n+1) :\n",
    "    if i < 10 :\n",
    "        i = '0' + str(i)\n",
    "    for j in range(60) :\n",
    "        if j< 10 :\n",
    "            j = '0' + str(j)\n",
    "        for k in range(60) :\n",
    "            if k < 10 :\n",
    "                k = '0' + str(k)\n",
    "            if '3' in (str(i) + str(j) + str(k)) :\n",
    "                count +=1 \n",
    "print(count)"
   ]
  },
  {
   "cell_type": "markdown",
   "id": "5b7fb3ba",
   "metadata": {},
   "source": [
    "# 실전문제 (왕실의 나이트)"
   ]
  },
  {
   "cell_type": "code",
   "execution_count": 11,
   "id": "c5ceba70",
   "metadata": {},
   "outputs": [
    {
     "name": "stdout",
     "output_type": "stream",
     "text": [
      "c2\n",
      "6\n"
     ]
    }
   ],
   "source": [
    "p = list(input()) # 나이트의 위치\n",
    "\n",
    "# 1 ~ 8 (행)\n",
    "# a ~ h -> 1 ~ 8 좌표 (열)\n",
    "\n",
    "x = int(p[1])\n",
    "y = ord(p[0]) - ord('a') + 1\n",
    "count = 0 # 최대로 나올 경우의 수\n",
    "\n",
    "if x-2 > 0 :\n",
    "    if y-1 > 0 : \n",
    "        count += 1\n",
    "    if y+1 < 9 :\n",
    "        count += 1\n",
    "        \n",
    "if x+2  < 9 :\n",
    "    if y-1 > 0 : \n",
    "        count += 1\n",
    "    if y+1 < 9 :\n",
    "        count += 1\n",
    "        \n",
    "if y-2 > 0 :\n",
    "    if x-1 > 0 : \n",
    "        count += 1\n",
    "    if x+1 < 9 :\n",
    "        count += 1\n",
    "\n",
    "if y+2 < 9 :\n",
    "    if x-1 > 0 : \n",
    "        count += 1\n",
    "    if x+1 < 9 :\n",
    "        count += 1    \n",
    "print(count)"
   ]
  },
  {
   "cell_type": "markdown",
   "id": "2d99482a",
   "metadata": {},
   "source": [
    "### dx,dy(공간벡터) 사용해서 풀어보기"
   ]
  },
  {
   "cell_type": "code",
   "execution_count": 3,
   "id": "a60e840e",
   "metadata": {},
   "outputs": [
    {
     "name": "stdout",
     "output_type": "stream",
     "text": [
      "a1\n",
      "2\n"
     ]
    }
   ],
   "source": [
    "p = input()\n",
    "\n",
    "x = int(p[1])\n",
    "y = ord(p[0]) - ord('a') + 1\n",
    "\n",
    "dx = [2, 2, -2, -2, -1, 1, -1, 1]\n",
    "dy = [-1, 1, -1, 1, 2, 2, -2, -2]\n",
    "\n",
    "count = 0\n",
    "for i in range(8) : #8대신 len(dx) or len(dy) 도 가능하다\n",
    "    nx = x + dx[i]\n",
    "    ny = y + dy[i]\n",
    "    \n",
    "    if nx >=1 and nx <=8 and ny >=1 and ny <=8 :\n",
    "        count +=1\n",
    "print(count)\n",
    "    \n",
    "\n"
   ]
  },
  {
   "cell_type": "markdown",
   "id": "c5022786",
   "metadata": {},
   "source": [
    "### 왕실의 나이트 dx,dy 를 합쳐서 이중리스트 (튜플)을 사용해서 풀기"
   ]
  },
  {
   "cell_type": "code",
   "execution_count": 6,
   "id": "0c2a8091",
   "metadata": {},
   "outputs": [
    {
     "name": "stdout",
     "output_type": "stream",
     "text": [
      "c4\n",
      "8\n"
     ]
    }
   ],
   "source": [
    "p = input()\n",
    "\n",
    "x = int(p[1])\n",
    "y = ord(p[0]) - ord('a') + 1\n",
    "\n",
    "steps = [[2,-1], [2,1], [-2,-1], [-2,1]\n",
    "        ,[-1,2], [1,2], [-1,-2], [1,2]]\n",
    "\n",
    "count = 0\n",
    "for i in steps :\n",
    "    nx = x + i[0]\n",
    "    ny = y + i[1]\n",
    "    \n",
    "    if nx>=1 and nx <=8 and ny>=1 and ny<=8 :\n",
    "        count += 1\n",
    "print(count)"
   ]
  },
  {
   "cell_type": "markdown",
   "id": "8f2eb80f",
   "metadata": {},
   "source": [
    "# 실전문제 (게임개발) "
   ]
  },
  {
   "cell_type": "code",
   "execution_count": null,
   "id": "a64fcf07",
   "metadata": {},
   "outputs": [],
   "source": [
    "n,m = map(int, input().split()) # 1) 맵 생성 /n=세로 / m=가로\n",
    "x,y,d = map(int, input().split()) # 2) 위치 좌표(x,y) x=세로 / y=가로, d=방향\n",
    "\n",
    "board = [] # 맵 생성 (0~n-1, 0~m-1)까지 만듦\n",
    "for i in range(n) :\n",
    "    board.append([])\n",
    "    for j in range(m) :\n",
    "        board[i].append(0)\n",
    "\n",
    "for i in range(n) : # 3) 육지(0), 바다(1)인지 맵에 설정\n",
    "    data = input().split()\n",
    "    for j in range(m) :\n",
    "        board[i][j] = int(data[j])\n",
    "\n",
    "count = 0 # 이동한 칸의 횟수 \n",
    "turn_count = 0 # 방향을 돌린 횟수\n",
    "\n",
    "### 육지(0) 바다(1) 이동해본 육지는 (9)라고 설정하겟슴\n",
    "board [x][y] = 9\n",
    "while (1) :\n",
    "    if d==0 : # 북쪽에서 시작하면 서쪽으로 회전 \n",
    "        if board[x][y-1] == 0 :\n",
    "            y = y - 1 # 서쪽으로 이동\n",
    "            d = 3 # 보고있는 방향 서쪽으로 바꿔줌\n",
    "            count += 1 # 이동횟수 증가\n",
    "            board[x][y] = 9 # 이동한 칸은 9로 표시해줌\n",
    "            turn_count = 0 # 회전 횟수 0으로 초기화\n",
    "        elif board[x][y-1] == 1 or board[x][y-1] == 9:\n",
    "            d = 3 # 서쪽으로 방향을 아예 돌림\n",
    "            turn_count += 1 #회전 횟수 1 증가\n",
    "    \n",
    "    elif d==3 : # 서쪽에서 시작하면 남쪽으로 회전\n",
    "        if board[x+1][y] == 0 :\n",
    "            x = x + 1 # 남쪽으로 이동\n",
    "            d = 2\n",
    "            count += 1 \n",
    "            board[x][y] = 9 \n",
    "            turn_count = 0\n",
    "        elif board[x+1][y] == 1 or board[x+1][y] == 9:\n",
    "            d = 2\n",
    "            turn_count += 1\n",
    "    \n",
    "    elif d==2 : # 남쪽에서 시작하면 동쪽으로 회전\n",
    "        if board[x][y+1] == 0 :\n",
    "            y = y + 1 # 동쪽으로 이동\n",
    "            d = 1\n",
    "            count += 1\n",
    "            board[x][y] = 9\n",
    "            turn_count = 0\n",
    "        elif board[x][y+1] == 1 or board[x][y+1] == 9:\n",
    "            d = 1\n",
    "            turn_count += 1\n",
    "\n",
    "    elif d==1 : # 동쪽에서 시작하면 북쪽으로 회전\n",
    "        if board[x-1][y] == 0 : \n",
    "            x = x - 1 # 북쪽으로 이동\n",
    "            d = 0\n",
    "            count += 1\n",
    "            board[x][y] = 9\n",
    "            turn_count = 0\n",
    "        elif board[x-1][y] == 1 or board[x-1][y] == 9:\n",
    "            d = 0\n",
    "            turn_count += 1\n",
    "    \n",
    "\n",
    "    if turn_count == 4 :\n",
    "        if d == 0 :\n",
    "            if board[x+1][y] == 1 : \n",
    "                break\n",
    "            if board[x+1][y] == 9 : \n",
    "                count += 1 # 이동횟수 증가\n",
    "                x = x + 1 # 좌표이동 \n",
    "                turn_count = 0 # 회전횟수 초기화\n",
    "        \n",
    "        if d == 3 :\n",
    "            if board[x][y+1] == 1 :\n",
    "                break\n",
    "            if board[x][y+1] == 9 : \n",
    "                count += 1 # 이동횟수 증가\n",
    "                y = y + 1 # 좌표이동 \n",
    "                turn_count = 0 # 회전횟수 초기화           \n",
    "                \n",
    "        if d == 2 :\n",
    "            if board[x-1][y] == 1 : \n",
    "                break\n",
    "            if board[x-1][y] == 9 : \n",
    "                count += 1 # 이동횟수 증가\n",
    "                x = x - 1 # 좌표 이동\n",
    "                turn_count = 0 # 회전횟수 초기화\n",
    "                \n",
    "        if d == 1 :\n",
    "            if board[x][y-1] == 1:\n",
    "                break\n",
    "            if board[x][y-1] == 9 :\n",
    "                count += 1 # 이동횟수 증가\n",
    "                y = y - 1 # 좌표이동 \n",
    "                turn_count = 0 # 회전횟수 초기화               \n",
    "print(count)\n"
   ]
  },
  {
   "cell_type": "code",
   "execution_count": null,
   "id": "9bd04054",
   "metadata": {},
   "outputs": [],
   "source": []
  }
 ],
 "metadata": {
  "kernelspec": {
   "display_name": "Python 3",
   "language": "python",
   "name": "python3"
  },
  "language_info": {
   "codemirror_mode": {
    "name": "ipython",
    "version": 3
   },
   "file_extension": ".py",
   "mimetype": "text/x-python",
   "name": "python",
   "nbconvert_exporter": "python",
   "pygments_lexer": "ipython3",
   "version": "3.8.8"
  }
 },
 "nbformat": 4,
 "nbformat_minor": 5
}
