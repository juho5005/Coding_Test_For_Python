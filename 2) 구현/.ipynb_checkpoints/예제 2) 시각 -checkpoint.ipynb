{
 "cells": [
  {
   "cell_type": "code",
   "execution_count": null,
   "id": "65d664de",
   "metadata": {},
   "outputs": [],
   "source": [
    "# 정수 N이 입력되면,\n",
    "# 00시 00분 00초 부터 N시 59분 59초 까지의 모든 시각 중 3이 하나라도 포함되는 모든 경우는?\n",
    "\n",
    "from re import L\n",
    "import sys\n",
    "n = int(sys.stdin.readline())\n",
    "\n",
    "cnt = 0\n",
    "for i in range(n+1):\n",
    "    for j in range(60):\n",
    "        for k in range(60):\n",
    "            if ('3' in str(i)) or ('3' in str(j)) or ('3' in str(k)):\n",
    "                cnt += 1\n",
    "\n",
    "print(cnt)"
   ]
  }
 ],
 "metadata": {
  "kernelspec": {
   "display_name": "Python 3",
   "language": "python",
   "name": "python3"
  },
  "language_info": {
   "codemirror_mode": {
    "name": "ipython",
    "version": 3
   },
   "file_extension": ".py",
   "mimetype": "text/x-python",
   "name": "python",
   "nbconvert_exporter": "python",
   "pygments_lexer": "ipython3",
   "version": "3.8.8"
  }
 },
 "nbformat": 4,
 "nbformat_minor": 5
}
