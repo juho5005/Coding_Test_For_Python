{
 "cells": [
  {
   "cell_type": "markdown",
   "id": "313ba7ec",
   "metadata": {},
   "source": [
    "# 문자열 재정렬"
   ]
  },
  {
   "cell_type": "code",
   "execution_count": null,
   "id": "1792ea98",
   "metadata": {},
   "outputs": [],
   "source": [
    "# 알파벳 대문자, 숫자로만 구성된 문자열\n",
    "\n",
    "import sys\n",
    "s = sys.stdin.readline().rstrip()\n",
    "\n",
    "lst = []\n",
    "num = 0\n",
    "for elem in s:\n",
    "    if elem.isalpha():  # ()로 닫아주는 것 잊지 말기.\n",
    "        lst.append(elem)\n",
    "    else:\n",
    "        num += int(elem)\n",
    "\n",
    "lst.sort()\n",
    "\n",
    "lst.append(str(num))\n",
    "\n",
    "print(''.join(lst))"
   ]
  }
 ],
 "metadata": {
  "kernelspec": {
   "display_name": "Python 3",
   "language": "python",
   "name": "python3"
  },
  "language_info": {
   "codemirror_mode": {
    "name": "ipython",
    "version": 3
   },
   "file_extension": ".py",
   "mimetype": "text/x-python",
   "name": "python",
   "nbconvert_exporter": "python",
   "pygments_lexer": "ipython3",
   "version": "3.8.8"
  }
 },
 "nbformat": 4,
 "nbformat_minor": 5
}
