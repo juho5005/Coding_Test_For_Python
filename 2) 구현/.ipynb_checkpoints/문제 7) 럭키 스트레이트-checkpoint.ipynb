{
 "cells": [
  {
   "cell_type": "markdown",
   "id": "b9973267",
   "metadata": {},
   "source": [
    "# 럭키 스트레이트"
   ]
  },
  {
   "cell_type": "code",
   "execution_count": 4,
   "id": "00d2add4",
   "metadata": {},
   "outputs": [
    {
     "name": "stdout",
     "output_type": "stream",
     "text": [
      "7755\n",
      "READY\n"
     ]
    }
   ],
   "source": [
    "import sys\n",
    "# 10 <= N <= 99,999,999, N의 자릿수는 무조건 짝수\n",
    "n = list(sys.stdin.readline().strip())\n",
    "\n",
    "std = len(n) // 2\n",
    "\n",
    "left_sum = 0\n",
    "for i in range(std):\n",
    "    left_sum += int(n[i])\n",
    "\n",
    "right_sum = 0\n",
    "for j in range(std, len(n)):\n",
    "    right_sum += int(n[j])\n",
    "\n",
    "if left_sum == right_sum:\n",
    "    sys.stdout.write('LUCKY')\n",
    "else:\n",
    "    sys.stdout.write('READY')"
   ]
  }
 ],
 "metadata": {
  "kernelspec": {
   "display_name": "Python 3",
   "language": "python",
   "name": "python3"
  },
  "language_info": {
   "codemirror_mode": {
    "name": "ipython",
    "version": 3
   },
   "file_extension": ".py",
   "mimetype": "text/x-python",
   "name": "python",
   "nbconvert_exporter": "python",
   "pygments_lexer": "ipython3",
   "version": "3.8.8"
  }
 },
 "nbformat": 4,
 "nbformat_minor": 5
}
