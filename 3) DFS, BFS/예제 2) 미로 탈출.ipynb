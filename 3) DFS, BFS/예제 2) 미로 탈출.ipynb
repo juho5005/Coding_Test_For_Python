{
 "cells": [
  {
   "cell_type": "markdown",
   "id": "a40b8426",
   "metadata": {},
   "source": [
    "### 예제인 00110 을 입력받을 때 \n",
    "### list(map(int, input().split())) 으로 입력받는것으로 착각했다.\n",
    "### '00110' 을 문자열로 입력받는것 기억하기.."
   ]
  },
  {
   "cell_type": "markdown",
   "id": "06896171",
   "metadata": {},
   "source": [
    "## 최단거리를 구하는 문제이므로 BFS방식을 사용한다."
   ]
  },
  {
   "cell_type": "markdown",
   "id": "3a2f031b",
   "metadata": {},
   "source": [
    "# BFS 풀이"
   ]
  },
  {
   "cell_type": "code",
   "execution_count": null,
   "id": "1ed1bae9",
   "metadata": {},
   "outputs": [],
   "source": [
    "# N * M 크기의 직사각형 형태의 미로\n",
    "# 동빈이의 위치는 (1, 1) 출구는 (N, M)\n",
    "# 한 번에 한 칸씩 이동 가능\n",
    "# 괴물이 있으면 0, 괴물이 없으면 1\n",
    "# 움직여야하는 최소 칸의 개수는 ?\n",
    "# 칸을 셀 때는 시작 칸과 마지막 칸을 모두 포함해서 계산\n",
    "\n",
    "# BFS \n",
    "\n",
    "from collections import deque\n",
    "import sys \n",
    "n, m = tuple(map(int, sys.stdin.readline().split()))\n",
    "q = deque()\n",
    "\n",
    "# 상 하 좌 우\n",
    "dxs = [-1, 1, 0, 0]\n",
    "dys = [0, 0, -1, 1]\n",
    "\n",
    "graph = [\n",
    "    list(sys.stdin.readline().strip())\n",
    "    for _ in range(n)\n",
    "]\n",
    "\n",
    "# 거리를 세줄 distance 배열을 추가로 만든다.\n",
    "distance = [\n",
    "    [0] * m\n",
    "    for _ in range(n)\n",
    "]\n",
    "# 시작 칸을 포함해서 계산하므로 첫칸을 1로 설정해서 첫 칸도 같이 세준다.\n",
    "distance[0][0] = 1 \n",
    "\n",
    "\n",
    "visited = [\n",
    "    [False for _ in range(m)]\n",
    "    for _ in range(n)\n",
    "]\n",
    "\n",
    "def in_range(x, y) :\n",
    "    return x>=0 and x<n and y>=0 and y<m\n",
    "\n",
    "def can_go(x, y) :\n",
    "    if not in_range(x, y) :\n",
    "        return False \n",
    "    if visited[x][y] :\n",
    "        return False \n",
    "    if graph[x][y] == '0' :\n",
    "        return False \n",
    "    return True \n",
    "    \n",
    "def bfs() :\n",
    "    global cnt \n",
    "    while q :\n",
    "        x, y = q.popleft()\n",
    "\n",
    "        if x == n-1 and y == m-1 :\n",
    "            cnt = distance[x][y]\n",
    "            break\n",
    "        for dx, dy in zip(dxs, dys) :\n",
    "            nx, ny = x+dx, y+dy \n",
    "\n",
    "            if can_go(nx, ny) :\n",
    "                visited[nx][ny] = True\n",
    "                q.append((nx, ny))\n",
    "                distance[nx][ny] = distance[x][y] + 1\n",
    "\n",
    "x, y = 0, 0 \n",
    "cnt = 0 \n",
    "visited[x][y] = True \n",
    "q.append((x, y))\n",
    "bfs()\n",
    "\n",
    "print(cnt)"
   ]
  }
 ],
 "metadata": {
  "kernelspec": {
   "display_name": "Python 3",
   "language": "python",
   "name": "python3"
  },
  "language_info": {
   "codemirror_mode": {
    "name": "ipython",
    "version": 3
   },
   "file_extension": ".py",
   "mimetype": "text/x-python",
   "name": "python",
   "nbconvert_exporter": "python",
   "pygments_lexer": "ipython3",
   "version": "3.8.8"
  }
 },
 "nbformat": 4,
 "nbformat_minor": 5
}
