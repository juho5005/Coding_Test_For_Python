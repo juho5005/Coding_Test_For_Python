{
 "cells": [
  {
   "cell_type": "markdown",
   "id": "f0fa9e5e",
   "metadata": {},
   "source": [
    "문제 풀이 : https://raspy-turnip-f8d.notion.site/Q-4-98e294cefa304fbca4d6f094767c70e8"
   ]
  },
  {
   "cell_type": "code",
   "execution_count": null,
   "id": "43877837",
   "metadata": {},
   "outputs": [],
   "source": [
    "import sys\n",
    "n = int(sys.stdin.readline())\n",
    "# 동전의 개수 : 1 <= N <= 1000 : O(N^2)\n",
    "\n",
    "coins = list(map(int, sys.stdin.readline().split()))\n",
    "# 1 <= coin <= 1,000,000\n",
    "\n",
    "coins.sort()  # 동전들을 오름차순 정렬\n",
    "\n",
    "target = 1 # target 값 1로 초기화 \n",
    "for coin in coins :\n",
    "    if target < coin :\n",
    "        break\n",
    "    target += coin # target 값 갱신 : (target-1) 까진 모두 만들 수 있다.\n",
    "\n",
    "print(target)"
   ]
  }
 ],
 "metadata": {
  "kernelspec": {
   "display_name": "Python 3",
   "language": "python",
   "name": "python3"
  },
  "language_info": {
   "codemirror_mode": {
    "name": "ipython",
    "version": 3
   },
   "file_extension": ".py",
   "mimetype": "text/x-python",
   "name": "python",
   "nbconvert_exporter": "python",
   "pygments_lexer": "ipython3",
   "version": "3.8.8"
  }
 },
 "nbformat": 4,
 "nbformat_minor": 5
}
