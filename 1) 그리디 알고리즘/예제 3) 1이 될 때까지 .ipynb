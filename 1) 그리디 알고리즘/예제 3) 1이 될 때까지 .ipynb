{
 "cells": [
  {
   "cell_type": "code",
   "execution_count": null,
   "id": "c52520f9",
   "metadata": {},
   "outputs": [],
   "source": [
    "import sys\n",
    "n, k = tuple(map(int, sys.stdin.readline().split()))  # n >= k\n",
    "\n",
    "cnt = 0\n",
    "while n != 1:\n",
    "    if n % k == 0:\n",
    "        n //= k\n",
    "        cnt += 1\n",
    "    else:\n",
    "        n -= 1\n",
    "        cnt += 1\n",
    "\n",
    "print(cnt)"
   ]
  }
 ],
 "metadata": {
  "kernelspec": {
   "display_name": "Python 3",
   "language": "python",
   "name": "python3"
  },
  "language_info": {
   "codemirror_mode": {
    "name": "ipython",
    "version": 3
   },
   "file_extension": ".py",
   "mimetype": "text/x-python",
   "name": "python",
   "nbconvert_exporter": "python",
   "pygments_lexer": "ipython3",
   "version": "3.8.8"
  }
 },
 "nbformat": 4,
 "nbformat_minor": 5
}
