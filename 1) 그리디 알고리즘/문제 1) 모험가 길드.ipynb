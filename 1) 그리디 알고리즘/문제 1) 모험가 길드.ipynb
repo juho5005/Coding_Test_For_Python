{
 "cells": [
  {
   "cell_type": "code",
   "execution_count": null,
   "id": "c4888b6c",
   "metadata": {},
   "outputs": [],
   "source": [
    "import sys\n",
    "n = int(sys.stdin.readline())  # 1<=N<=100,000 O(N), O(NlogN), O(logN), O(1)\n",
    "fears = list(map(int, sys.stdin.readline().split()))\n",
    "\n",
    "# 공포도 오름차순 정렬\n",
    "fears.sort()\n",
    "\n",
    "# 여행을 떠날 수 잇는 그룹의 최댓값이면, 작은 애들부터 따져봐야한다.\n",
    "count = 0 # 인원 수 \n",
    "group = 0 # 그룹 수 \n",
    "\n",
    "for fear in fears:\n",
    "    count += 1\n",
    "    if count >= fear:\n",
    "        group += 1\n",
    "        count = 0\n",
    "\n",
    "print(group)"
   ]
  }
 ],
 "metadata": {
  "kernelspec": {
   "display_name": "Python 3",
   "language": "python",
   "name": "python3"
  },
  "language_info": {
   "codemirror_mode": {
    "name": "ipython",
    "version": 3
   },
   "file_extension": ".py",
   "mimetype": "text/x-python",
   "name": "python",
   "nbconvert_exporter": "python",
   "pygments_lexer": "ipython3",
   "version": "3.8.8"
  }
 },
 "nbformat": 4,
 "nbformat_minor": 5
}
