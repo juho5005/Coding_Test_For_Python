{
 "cells": [
  {
   "cell_type": "code",
   "execution_count": null,
   "id": "ba6e67ed",
   "metadata": {},
   "outputs": [],
   "source": [
    "import sys\n",
    "n, m, k = tuple(map(int, sys.stdin.readline().split()))\n",
    "\n",
    "nums = list(map(int, sys.stdin.readline().split()))\n",
    "\n",
    "nums.sort()\n",
    "\n",
    "cnt = 0\n",
    "res = 0\n",
    "for i in range(m):\n",
    "    cnt += 1\n",
    "    if cnt > k:\n",
    "        res += nums[-2]\n",
    "        cnt = 0\n",
    "    else:\n",
    "        res += nums[-1]\n",
    "\n",
    "print(res)"
   ]
  }
 ],
 "metadata": {
  "kernelspec": {
   "display_name": "Python 3",
   "language": "python",
   "name": "python3"
  },
  "language_info": {
   "codemirror_mode": {
    "name": "ipython",
    "version": 3
   },
   "file_extension": ".py",
   "mimetype": "text/x-python",
   "name": "python",
   "nbconvert_exporter": "python",
   "pygments_lexer": "ipython3",
   "version": "3.8.8"
  }
 },
 "nbformat": 4,
 "nbformat_minor": 5
}
