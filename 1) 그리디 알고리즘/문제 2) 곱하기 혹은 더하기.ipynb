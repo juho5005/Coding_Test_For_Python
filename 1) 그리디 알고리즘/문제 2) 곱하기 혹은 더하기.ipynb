{
 "cells": [
  {
   "cell_type": "markdown",
   "id": "0a3ff9a1",
   "metadata": {},
   "source": [
    "결과 값과 주어지는 숫자 값을 \"모두\" 생각해야 함\n",
    "곱했을 때 손해를 보는 경우는 \"0\", \"1\"\n",
    "위 경우만 제외하면 곱하는 것이 모두 큰 수를 만들 수 있다.\n",
    "\n",
    "이 때 값을 받아주는 res 값과 주어지는 숫자인 num 값 \"모두\" 0과 1의 경우를 생각해줘야 한다!!"
   ]
  },
  {
   "cell_type": "code",
   "execution_count": null,
   "id": "48579153",
   "metadata": {},
   "outputs": [],
   "source": [
    "import sys\n",
    "s = sys.stdin.readline().rstrip()\n",
    "\n",
    "res = 0\n",
    "\n",
    "# 연산은 왼쪽에서부터 순서대로 이루어진다.\n",
    "for num in s:\n",
    "    if num == '0' or num == '1' or res == 0 or res == 1:\n",
    "        res += int(num)\n",
    "    else:\n",
    "        res *= int(num)\n",
    "        \n",
    "print(res)"
   ]
  }
 ],
 "metadata": {
  "kernelspec": {
   "display_name": "Python 3",
   "language": "python",
   "name": "python3"
  },
  "language_info": {
   "codemirror_mode": {
    "name": "ipython",
    "version": 3
   },
   "file_extension": ".py",
   "mimetype": "text/x-python",
   "name": "python",
   "nbconvert_exporter": "python",
   "pygments_lexer": "ipython3",
   "version": "3.8.8"
  }
 },
 "nbformat": 4,
 "nbformat_minor": 5
}
