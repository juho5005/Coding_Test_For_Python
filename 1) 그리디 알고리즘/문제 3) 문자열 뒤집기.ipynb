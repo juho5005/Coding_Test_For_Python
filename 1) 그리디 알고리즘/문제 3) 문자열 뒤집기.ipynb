{
 "cells": [
  {
   "cell_type": "markdown",
   "id": "a3425d3e",
   "metadata": {},
   "source": [
    "문제 풀이 : https://raspy-turnip-f8d.notion.site/Q-3-550440584edb44f5afa3890e019f8ee1"
   ]
  },
  {
   "cell_type": "markdown",
   "id": "a193e214",
   "metadata": {},
   "source": [
    "### 인덱스로 접근하여 0->1, 1->0 로 바뀔때의 개수를 각각 세주는 코드"
   ]
  },
  {
   "cell_type": "code",
   "execution_count": null,
   "id": "699dbd42",
   "metadata": {},
   "outputs": [],
   "source": [
    "import sys\n",
    "s = sys.stdin.readline().rstrip()\n",
    "# s <= 1000,000\n",
    "\n",
    "# 1) 모든 수를 1로 바꿀 때\n",
    "i = 0\n",
    "l = len(s)\n",
    "\n",
    "cnt1 = 0\n",
    "while i < l:\n",
    "    if s[i] == '0':\n",
    "        i += 1\n",
    "        \n",
    "        while i < l and s[i] == '0':\n",
    "            i += 1\n",
    "\n",
    "        cnt1 += 1\n",
    "    else:\n",
    "        i += 1\n",
    "\n",
    "# 2) 모든 수를 0으로 바꿀 때\n",
    "j = 0\n",
    "\n",
    "cnt2 = 0\n",
    "while j < l:\n",
    "    if s[j] == '1':\n",
    "        j += 1\n",
    "\n",
    "        while j < l and s[j] == '1':\n",
    "            j += 1\n",
    "\n",
    "        cnt2 += 1\n",
    "    else:\n",
    "        j += 1\n",
    "        \n",
    "print(min(cnt1, cnt2))"
   ]
  },
  {
   "cell_type": "markdown",
   "id": "a6d1315f",
   "metadata": {},
   "source": [
    "### 0 -> 1, 1-> 0 로 바꿀때의 변수를 각각 지정후 개수를 세주는 방식\n",
    "책의 답지와 같다."
   ]
  },
  {
   "cell_type": "code",
   "execution_count": null,
   "id": "c82b26cd",
   "metadata": {},
   "outputs": [],
   "source": [
    "import sys\n",
    "\n",
    "s = sys.stdin.readline().rstrip()\n",
    "\n",
    "# count0(1->0), count1(0->1)\n",
    "count0 = 0\n",
    "count1 = 0\n",
    "\n",
    "# 문자열 s의 첫 번째 원소를 기준으로 초기 값을 지정해준다.\n",
    "if s[0] == '1':\n",
    "    count0 += 1  # 첫 번째 값이 1이면, 0으로 바꿔주는 count0의 값 1 증가\n",
    "else:\n",
    "    count1 += 1  # 첫 번째 값이 0이면, 1으로 바꿔주는 count1의 값 1 증가\n",
    "\n",
    "for i in range(1, len(s)-1):\n",
    "    if s[i] != s[i+1]:\n",
    "        if s[i+1] == '1':\n",
    "            count0 += 1\n",
    "        else:\n",
    "            count1 += 1\n",
    "\n",
    "print(min(count0, count1))"
   ]
  },
  {
   "cell_type": "markdown",
   "id": "3f8cf71b",
   "metadata": {},
   "source": [
    "### 스택을 이용한 풀이"
   ]
  },
  {
   "cell_type": "code",
   "execution_count": 1,
   "id": "a5eae9fd",
   "metadata": {},
   "outputs": [
    {
     "name": "stdout",
     "output_type": "stream",
     "text": [
      "0001100\n",
      "1\n"
     ]
    }
   ],
   "source": [
    "import sys\n",
    "s = sys.stdin.readline().rstrip()\n",
    "\n",
    "stack = []\n",
    "# 첫 번째 문자열의 원소를 스택에 넣어준다.\n",
    "stack.append(s[0])\n",
    "\n",
    "for i in range(1, len(s)):\n",
    "    if stack[-1] != s[i]:  # 스택에 쌓인 마지막 원소와 s[i]가 다르면 stack에 append\n",
    "        stack.append(s[i])\n",
    "\n",
    "cnt0 = stack.count('1')  # 0으로 바꿀 때 횟수\n",
    "cnt1 = stack.count('0')  # 1로 바꿀 때 횟수\n",
    "\n",
    "print(min(cnt0, cnt1))"
   ]
  }
 ],
 "metadata": {
  "kernelspec": {
   "display_name": "Python 3",
   "language": "python",
   "name": "python3"
  },
  "language_info": {
   "codemirror_mode": {
    "name": "ipython",
    "version": 3
   },
   "file_extension": ".py",
   "mimetype": "text/x-python",
   "name": "python",
   "nbconvert_exporter": "python",
   "pygments_lexer": "ipython3",
   "version": "3.8.8"
  }
 },
 "nbformat": 4,
 "nbformat_minor": 5
}
