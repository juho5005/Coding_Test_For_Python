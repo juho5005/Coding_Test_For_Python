{
 "cells": [
  {
   "cell_type": "markdown",
   "id": "3ef21eac",
   "metadata": {},
   "source": [
    "문제 풀이 : https://raspy-turnip-f8d.notion.site/Q-31-97d9cf6f9513458e945958beae02c417"
   ]
  },
  {
   "cell_type": "markdown",
   "id": "20727ec4",
   "metadata": {},
   "source": [
    "### 행이 0일 때, 행이 n-1일 때, 나머지 경우 를 각각 나누어서 가능한 모든 경우를 비교해주는 방식 "
   ]
  },
  {
   "cell_type": "code",
   "execution_count": null,
   "id": "a8147fc1",
   "metadata": {},
   "outputs": [],
   "source": [
    "import sys\n",
    "t = int(sys.stdin.readline())  # 1 <= T <= 1000 : O(N^2)\n",
    "\n",
    "for _ in range(t):\n",
    "    n, m = tuple(map(int, sys.stdin.readline().split()))\n",
    "    # 1 n, m <= 20\n",
    "\n",
    "    gold = list(map(int, sys.stdin.readline().split()))\n",
    "\n",
    "    golds = []\n",
    "    idx = 0  # golds라는 2차원 배열을 만들기 위해 idx 설정\n",
    "\n",
    "    for _ in range(n):\n",
    "        golds.append(gold[idx:idx+m])\n",
    "        idx += m\n",
    "\n",
    "    # up(오른쪽 위), down(오른쪽 아래), even(오른쪽)\n",
    "    for k in range(1, m):  # 열\n",
    "        for l in range(n):  # 행\n",
    "\n",
    "            if l == 0:\n",
    "                golds[l][k] = golds[l][k] + max(golds[l][k-1], golds[l+1][k-1])\n",
    "\n",
    "            elif l == n-1:\n",
    "                golds[l][k] = golds[l][k] + max(golds[l][k-1], golds[l-1][k-1])\n",
    "\n",
    "            else:\n",
    "                golds[l][k] = golds[l][k] + max(golds[l][k-1], golds[l-1][k-1],\n",
    "                                                golds[l+1][k-1])\n",
    "\n",
    "    # 얻을 수 있는 최대 금의 크기 구하기 (마지막 열)\n",
    "    max_gold = float('-inf')\n",
    "    for i in range(n):\n",
    "        max_gold = max(max_gold, golds[i][m-1])\n",
    "\n",
    "    print(max_gold)\n"
   ]
  },
  {
   "cell_type": "markdown",
   "id": "7883c823",
   "metadata": {},
   "source": [
    "### 위의 방식을 간소화 한 코드"
   ]
  },
  {
   "cell_type": "code",
   "execution_count": null,
   "id": "2ceeb808",
   "metadata": {},
   "outputs": [],
   "source": [
    "import sys\n",
    "t = int(sys.stdin.readline())  # 1 <= T <= 1000 : O(N^2)\n",
    "\n",
    "for _ in range(t):\n",
    "    n, m = tuple(map(int, sys.stdin.readline().split()))\n",
    "    # 1 <= n, m <= 20\n",
    "\n",
    "    gold = list(map(int, sys.stdin.readline().split()))\n",
    "\n",
    "    golds = []\n",
    "    idx = 0  # golds라는 2차원 배열을 만들기 위해 idx 설정\n",
    "\n",
    "    for _ in range(n):\n",
    "        golds.append(gold[idx:idx+m])\n",
    "        idx += m\n",
    "\n",
    "    # up(오른쪽 위), down(오른쪽 아래), even(오른쪽)\n",
    "    for k in range(1, m):  # 열\n",
    "        for l in range(n):  # 행\n",
    "\n",
    "            # 첫 번째 행일 때 (down의 조건)\n",
    "            if l == 0:\n",
    "                down = 0\n",
    "            else:\n",
    "                down = golds[l-1][k-1]\n",
    "\n",
    "            # 마지막 행일 때 (up의 조건)\n",
    "            if l == n-1:\n",
    "                up = 0\n",
    "            else:\n",
    "                up = golds[l+1][k-1]\n",
    "\n",
    "            # 그 외의 경우들은 제약 X (even은 조건 X)\n",
    "            even = golds[l][k-1]\n",
    "\n",
    "            golds[l][k] = golds[l][k] + max(down, up, even)\n",
    "\n",
    "    # 얻을 수 있는 최대 금의 크기 구하기 (마지막 열)\n",
    "    max_gold = float('-inf')\n",
    "    for i in range(n):\n",
    "        max_gold = max(max_gold, golds[i][m-1])\n",
    "\n",
    "    print(max_gold)"
   ]
  },
  {
   "cell_type": "markdown",
   "id": "f753599d",
   "metadata": {},
   "source": [
    "### dp 테이블을 새로 생성한 코드 "
   ]
  },
  {
   "cell_type": "code",
   "execution_count": null,
   "id": "047655d2",
   "metadata": {},
   "outputs": [],
   "source": [
    "import sys\n",
    "t = int(sys.stdin.readline())  # 1 <= T <= 1000 : O(N^2)\n",
    "\n",
    "for _ in range(t):\n",
    "    n, m = tuple(map(int, sys.stdin.readline().split()))\n",
    "    # 1 <= n, m <= 20\n",
    "\n",
    "    gold = list(map(int, sys.stdin.readline().split()))\n",
    "\n",
    "    golds = []\n",
    "    idx = 0  # golds라는 2차원 배열을 만들기 위해 idx 설정\n",
    "\n",
    "    for _ in range(n):\n",
    "        golds.append(gold[idx:idx+m])\n",
    "        idx += m\n",
    "\n",
    "    # dp 테이블 생성\n",
    "    dp = [\n",
    "        [0] * m\n",
    "        for _ in range(n)\n",
    "    ]\n",
    "\n",
    "    # 첫 번째 열 초기화\n",
    "    for i in range(n):\n",
    "        dp[i][0] = golds[i][0]\n",
    "\n",
    "    # up(오른쪽 위), down(오른쪽 아래), even(오른쪽)\n",
    "    for k in range(1, m):  # 열\n",
    "        for l in range(n):  # 행\n",
    "\n",
    "            if l == 0:\n",
    "                dp[l][k] = golds[l][k] + max(dp[l][k-1], dp[l+1][k-1])\n",
    "\n",
    "            elif l == n-1:\n",
    "                dp[l][k] = golds[l][k] + max(dp[l][k-1], dp[l-1][k-1])\n",
    "\n",
    "            else:\n",
    "                dp[l][k] = golds[l][k] + max(dp[l][k-1], dp[l-1][k-1],\n",
    "                                             dp[l+1][k-1])\n",
    "\n",
    "    # 얻을 수 있는 최대 금의 크기 구하기 (마지막 열)\n",
    "    max_gold = float('-inf')\n",
    "    for i in range(n):\n",
    "        max_gold = max(max_gold, dp[i][m-1])\n",
    "\n",
    "    print(max_gold)"
   ]
  }
 ],
 "metadata": {
  "kernelspec": {
   "display_name": "Python 3",
   "language": "python",
   "name": "python3"
  },
  "language_info": {
   "codemirror_mode": {
    "name": "ipython",
    "version": 3
   },
   "file_extension": ".py",
   "mimetype": "text/x-python",
   "name": "python",
   "nbconvert_exporter": "python",
   "pygments_lexer": "ipython3",
   "version": "3.8.8"
  }
 },
 "nbformat": 4,
 "nbformat_minor": 5
}
