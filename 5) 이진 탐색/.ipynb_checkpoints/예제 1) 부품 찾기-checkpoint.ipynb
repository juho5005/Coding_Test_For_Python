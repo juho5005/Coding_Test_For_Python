{
 "cells": [
  {
   "cell_type": "markdown",
   "id": "cc8fa48b",
   "metadata": {},
   "source": [
    "### 이진 탐색을 사용한 코드"
   ]
  },
  {
   "cell_type": "code",
   "execution_count": null,
   "id": "1fbd022d",
   "metadata": {},
   "outputs": [],
   "source": [
    "import sys\n",
    "n = int(sys.stdin.readline())\n",
    "# 1 <= N <= 1000,000\n",
    "nums = list(map(int, sys.stdin.readline().split()))\n",
    "nums.sort()  # 이진 탐색은 무조건 정렬해줘야한다.\n",
    "\n",
    "m = int(sys.stdin.readline())\n",
    "# 1 <= M <= 100,000\n",
    "\n",
    "find_nums = list(map(int, sys.stdin.readline().split()))\n",
    "\n",
    "\n",
    "def binary_search(target, start, end):\n",
    "    while start <= end:\n",
    "        mid = (start+end) // 2\n",
    "\n",
    "        if nums[mid] == target:\n",
    "            return True\n",
    "        elif nums[mid] > target:\n",
    "            end = mid - 1\n",
    "        else:\n",
    "            start = mid + 1\n",
    "    return False\n",
    "\n",
    "\n",
    "for num in find_nums:\n",
    "    if binary_search(num, 0, len(nums)-1):\n",
    "        print('yes', end=' ')\n",
    "    else:\n",
    "        print('no', end=' ')"
   ]
  },
  {
   "cell_type": "markdown",
   "id": "b918de6d",
   "metadata": {},
   "source": [
    "### 계수 정렬 ( 카운팅 정렬 )"
   ]
  },
  {
   "cell_type": "code",
   "execution_count": null,
   "id": "dbab3517",
   "metadata": {},
   "outputs": [],
   "source": [
    "import sys\n",
    "n = int(sys.stdin.readline())\n",
    "# 1 <= N <= 1,000,000\n",
    "# 이때 N개의 정수는 1보다 크고 1,000,000이하이다.\n",
    "\n",
    "array = [0] * (1000000 + 1)\n",
    "\n",
    "for elem in sys.stdin.readline().rstrip().split():\n",
    "    array[int(elem)] = 1\n",
    "\n",
    "\n",
    "m = int(sys.stdin.readline())\n",
    "# 1 <= m <= 100,000\n",
    "nums = list(map(int, sys.stdin.readline().split()))\n",
    "\n",
    "# 손님이 확인 요청한 부품 번호를 하나씩 확인\n",
    "for num in nums:\n",
    "    if array[num] == 1:\n",
    "        print(\"yes\", end=' ')\n",
    "    else:\n",
    "        print(\"no\", end=' ')"
   ]
  },
  {
   "cell_type": "markdown",
   "id": "f1c90726",
   "metadata": {},
   "source": [
    "### 집합 자료형 이용"
   ]
  },
  {
   "cell_type": "code",
   "execution_count": null,
   "id": "83965f2d",
   "metadata": {},
   "outputs": [],
   "source": [
    "import sys\n",
    "n = int(sys.stdin.readline())\n",
    "# 1 <= N <= 1,000,000\n",
    "# 이때 N개의 정수는 1보다 크고 1,000,000이하이다.\n",
    "\n",
    "# 가게에 있는 전체 부품 번호를 입력받아서 집합(set) 자료형에 기록\n",
    "array = set(map(int, sys.stdin.readline().split()))\n",
    "\n",
    "\n",
    "m = int(sys.stdin.readline())\n",
    "nums = list(map(int, sys.stdin.readline().split()))\n",
    "\n",
    "# 손님이 확인 요청한 부품 번호를 하나씩 확인\n",
    "for num in nums:\n",
    "    if num in array:\n",
    "        print(\"yes\", end=' ')\n",
    "    else:\n",
    "        print(\"no\", end=' ')"
   ]
  }
 ],
 "metadata": {
  "kernelspec": {
   "display_name": "Python 3",
   "language": "python",
   "name": "python3"
  },
  "language_info": {
   "codemirror_mode": {
    "name": "ipython",
    "version": 3
   },
   "file_extension": ".py",
   "mimetype": "text/x-python",
   "name": "python",
   "nbconvert_exporter": "python",
   "pygments_lexer": "ipython3",
   "version": "3.8.8"
  }
 },
 "nbformat": 4,
 "nbformat_minor": 5
}
