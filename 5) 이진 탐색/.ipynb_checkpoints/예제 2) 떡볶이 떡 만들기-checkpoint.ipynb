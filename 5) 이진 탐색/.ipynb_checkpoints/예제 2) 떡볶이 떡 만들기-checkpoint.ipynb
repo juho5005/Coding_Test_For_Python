{
 "cells": [
  {
   "cell_type": "markdown",
   "id": "59e59f89",
   "metadata": {},
   "source": [
    "### 이진 탐색 사용"
   ]
  },
  {
   "cell_type": "code",
   "execution_count": null,
   "id": "18af7cfe",
   "metadata": {},
   "outputs": [],
   "source": [
    "import sys\n",
    "n, m = tuple(map(int, sys.stdin.readline().split()))\n",
    "# 1<=N<=1,000,000 | 1<=M<=2,000,000,000 (이진 탐색)\n",
    "\n",
    "heights = list(map(int, sys.stdin.readline().split()))\n",
    "# 1<= height <= 1000,000,000\n",
    "\n",
    "start = 0\n",
    "end = max(heights)\n",
    "\n",
    "answer = -1\n",
    "while start <= end:\n",
    "    mid = (start+end) // 2\n",
    "    count = 0\n",
    "\n",
    "    # 떡의 길이를 하나하나 보고 기준 보다 클 때가 떡이 남게 되므로 결과를 저장함\n",
    "    for height in heights:\n",
    "        if height > mid: # 떡의 높이가 높이보다 낮으면 더해지는 숫자는 어차피 없다.\n",
    "            count += (height-mid)\n",
    "\n",
    "    # 남은 떡의 길이의 합이 고객이 원하는 양보다 크면\n",
    "    # answer에 기준을 저장하고, 더 줄일 수 있는지 start 선을 좁혀본다.\n",
    "    if count >= m:\n",
    "        start = mid + 1\n",
    "        answer = mid\n",
    "\n",
    "    # 남은 떡의 길이의 합이 고객이 원하는 양에 못미치면\n",
    "    # 기준을 다시 줄인다.\n",
    "    else:\n",
    "        end = mid - 1\n",
    "\n",
    "print(answer)"
   ]
  }
 ],
 "metadata": {
  "kernelspec": {
   "display_name": "Python 3",
   "language": "python",
   "name": "python3"
  },
  "language_info": {
   "codemirror_mode": {
    "name": "ipython",
    "version": 3
   },
   "file_extension": ".py",
   "mimetype": "text/x-python",
   "name": "python",
   "nbconvert_exporter": "python",
   "pygments_lexer": "ipython3",
   "version": "3.8.8"
  }
 },
 "nbformat": 4,
 "nbformat_minor": 5
}
