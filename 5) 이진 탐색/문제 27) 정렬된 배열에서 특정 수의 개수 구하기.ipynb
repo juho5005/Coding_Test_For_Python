{
 "cells": [
  {
   "cell_type": "markdown",
   "id": "c688f0e5",
   "metadata": {},
   "source": [
    "Upperbound, Lowerbound 개념 : https://raspy-turnip-f8d.notion.site/3-Lower-bound-Upper-bound-c6dd01df43294f08b8209d5c8d5c4d23"
   ]
  },
  {
   "cell_type": "code",
   "execution_count": null,
   "id": "df50127d",
   "metadata": {},
   "outputs": [],
   "source": [
    "# N개의 원소를 포함하고 있는 수열이 오름차순 정렬 됐을 때\n",
    "# 수열에서 x가 등장하는 횟수를 구하시오.\n",
    "\n",
    "# O(logN)으로 해결해야한다.\n",
    "\n",
    "import sys\n",
    "n, x = tuple(map(int, sys.stdin.readline().split()))\n",
    "# 1 <= N <= 1,000,000, -10^9 <= x <= 10^9\n",
    "\n",
    "nums = list(map(int, sys.stdin.readline().split()))\n",
    "\n",
    "# upperbound : 찾고자 하는 x 초과인 수 중 idx가 가장 왼쪽에 있는 수\n",
    "def upperbound(target):\n",
    "    start = 0\n",
    "    end = len(nums)\n",
    "\n",
    "    while start < end:\n",
    "        mid = (start+end) // 2\n",
    "\n",
    "        if nums[mid] > target:\n",
    "            end = mid\n",
    "        else:\n",
    "            start = mid + 1\n",
    "    return start\n",
    "\n",
    "# lowerbound : 찾고자 하는 x 이상인 수 중 idx가 가장 왼쪽에 있는 수\n",
    "def lowerbound(target):\n",
    "    start = 0\n",
    "    end = len(nums)\n",
    "\n",
    "    while start < end:\n",
    "        mid = (start+end) // 2\n",
    "\n",
    "        if nums[mid] >= target:\n",
    "            end = mid\n",
    "        else:\n",
    "            start = mid + 1\n",
    "    return start\n",
    "\n",
    "if upperbound(x) == lowerbound(x):\n",
    "    print(-1)\n",
    "else:\n",
    "    print(upperbound(x)-lowerbound(x))"
   ]
  },
  {
   "cell_type": "markdown",
   "id": "4f7537d7",
   "metadata": {},
   "source": [
    "### bisect 함수를 통한 풀이 "
   ]
  },
  {
   "cell_type": "code",
   "execution_count": null,
   "id": "70726603",
   "metadata": {},
   "outputs": [],
   "source": [
    "import sys\n",
    "from bisect import bisect_left, bisect_right\n",
    "n, x = tuple(map(int, sys.stdin.readline().split()))\n",
    "# 1 <= N <= 1,000,000, -10^9 <= x <= 10^9\n",
    "\n",
    "nums = list(map(int, sys.stdin.readline().split()))\n",
    "\n",
    "if bisect_left(nums, x) == bisect_right(nums, x):\n",
    "    print(-1)  # 값이 x인 원소가 한 개도 없는 경우\n",
    "else:\n",
    "    print(bisect_right(nums, x) - bisect_left(nums, x))"
   ]
  },
  {
   "cell_type": "markdown",
   "id": "fbdbfbdb",
   "metadata": {},
   "source": [
    "### dictionary O(1)을 이용하여 풀이한 방식"
   ]
  },
  {
   "cell_type": "code",
   "execution_count": null,
   "id": "1cfcbc3c",
   "metadata": {},
   "outputs": [],
   "source": [
    "# N개의 원소를 포함하고 있는 수열이 오름차순 정렬 됐을 때\n",
    "# 수열에서 x가 등장하는 횟수를 구하시오.\n",
    "\n",
    "# O(logN)으로 해결해야한다.\n",
    "import sys\n",
    "n, x = tuple(map(int, sys.stdin.readline().split()))\n",
    "# 1 <= N <= 1,000,000, -10^9 <= x <= 10^9\n",
    "\n",
    "nums = list(map(int, sys.stdin.readline().split()))\n",
    "\n",
    "dic = {}\n",
    "\n",
    "for num in nums:\n",
    "    if num not in dic:\n",
    "        dic[num] = 1\n",
    "    else:\n",
    "        dic[num] += 1\n",
    "\n",
    "if x not in dic:\n",
    "    print(-1)\n",
    "else:\n",
    "    print(dic[x])"
   ]
  }
 ],
 "metadata": {
  "kernelspec": {
   "display_name": "Python 3",
   "language": "python",
   "name": "python3"
  },
  "language_info": {
   "codemirror_mode": {
    "name": "ipython",
    "version": 3
   },
   "file_extension": ".py",
   "mimetype": "text/x-python",
   "name": "python",
   "nbconvert_exporter": "python",
   "pygments_lexer": "ipython3",
   "version": "3.8.8"
  }
 },
 "nbformat": 4,
 "nbformat_minor": 5
}
