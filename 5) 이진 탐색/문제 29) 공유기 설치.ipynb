{
 "cells": [
  {
   "cell_type": "markdown",
   "id": "0e1c9cfc",
   "metadata": {},
   "source": [
    "### max_dist를 설정하여 두 공유기 사이의 최대 거리를 구하는 방식"
   ]
  },
  {
   "cell_type": "code",
   "execution_count": null,
   "id": "e99de060",
   "metadata": {},
   "outputs": [],
   "source": [
    "# 공유기 설치\n",
    "# N개의 집 중 C개의 공유기를 설치할 때\n",
    "# 최대한 많은 곳에서 와이파이를 이용하려고 하기 때문에\n",
    "# 한 집에는 공유기를 하나만 설치 가능, 가장 인접한 두 공유기 사이의 거리를 최대한 크게 한다.\n",
    "\n",
    "# C개의 공유기를 N개의 집에 적당히 설치해서\n",
    "# 가장 인접한 두 공유기 사이의 거리를 최대로 하는 프로그램을 작성하시오.\n",
    "\n",
    "import sys\n",
    "n, c = tuple(map(int, sys.stdin.readline().split()))\n",
    "# 집 : 2 <= N <= 200,000, 공유기 : 2 <= C <= N\n",
    "\n",
    "homes = [\n",
    "    int(sys.stdin.readline())\n",
    "    for _ in range(n)\n",
    "]  # 1 <= home <= 1,000,000,000\n",
    "\n",
    "# 이진 탐색을 사용해야 함을 직감적으로 알 수 있다. (우선 정렬)\n",
    "homes.sort()\n",
    "\n",
    "# 두 집 사이의 거리를 이진탐색의 변수로 생각해서 구해볼 수 있다.\n",
    "\n",
    "start = 1  # 두 집 사이의 최소 거리\n",
    "end = homes[-1] - homes[0]  # 두 집 사이의 최대 거리\n",
    "\n",
    "max_dist = float('-inf')\n",
    "while start <= end:\n",
    "    mid = (start+end) // 2\n",
    "\n",
    "    # mid가 두 집사이의 거리일 때 설치할 수 있는 공유기의 개수\n",
    "    cnt = 1  # 첫 집에 공유기를 설치하므로 초기값은 1\n",
    "    cur_home = homes[0]\n",
    "\n",
    "    for i in range(1, n):\n",
    "        if homes[i]-cur_home >= mid:\n",
    "            cnt += 1\n",
    "            cur_home = homes[i]\n",
    "\n",
    "    if cnt >= c:\n",
    "        max_dist = max(max_dist, mid)\n",
    "        start = mid + 1\n",
    "    else:\n",
    "        end = mid - 1\n",
    "\n",
    "print(max_dist)"
   ]
  },
  {
   "cell_type": "markdown",
   "id": "c62907e0",
   "metadata": {},
   "source": [
    "### start, end 변수 중에서 문제에서 \"최댓값\"을 구하라고 했으므로 end를 결과값으로 사용하는 방식"
   ]
  },
  {
   "cell_type": "markdown",
   "id": "4d9f8279",
   "metadata": {},
   "source": [
    "### 소요 시간이 조금이라도 줄어든다."
   ]
  },
  {
   "cell_type": "code",
   "execution_count": null,
   "id": "a4ecedb2",
   "metadata": {},
   "outputs": [],
   "source": [
    "# 공유기 설치\n",
    "# N개의 집 중 C개의 공유기를 설치할 때\n",
    "# 최대한 많은 곳에서 와이파이를 이용하려고 하기 때문에\n",
    "# 한 집에는 공유기를 하나만 설치 가능, 가장 인접한 두 공유기 사이의 거리를 최대한 크게 한다.\n",
    "\n",
    "# C개의 공유기를 N개의 집에 적당히 설치해서\n",
    "# 가장 인접한 두 공유기 사이의 거리를 최대로 하는 프로그램을 작성하시오.\n",
    "\n",
    "import sys\n",
    "n, c = tuple(map(int, sys.stdin.readline().split()))\n",
    "# 집 : 2 <= N <= 200,000, 공유기 : 2 <= C <= N\n",
    "\n",
    "homes = [\n",
    "    int(sys.stdin.readline())\n",
    "    for _ in range(n)\n",
    "]  # 1 <= home <= 1,000,000,000\n",
    "\n",
    "# 이진 탐색을 사용해야 함을 직감적으로 알 수 있다. (우선 정렬)\n",
    "homes.sort()\n",
    "\n",
    "# 두 집 사이의 거리를 이진탐색의 변수로 생각해서 구해볼 수 있다.\n",
    "\n",
    "start = 1  # 두 집 사이의 최소 거리\n",
    "end = homes[-1] - homes[0]  # 두 집 사이의 최대 거리\n",
    "\n",
    "while start <= end:\n",
    "    mid = (start+end) // 2\n",
    "\n",
    "    # mid가 두 집사이의 거리일 때 설치할 수 있는 공유기의 개수\n",
    "    cnt = 1  # 첫 집에 공유기를 설치하므로 초기값은 1\n",
    "    cur_home = homes[0]\n",
    "\n",
    "    for i in range(1, n):\n",
    "        if homes[i]-cur_home >= mid:\n",
    "            cnt += 1\n",
    "            cur_home = homes[i]\n",
    "\n",
    "    if cnt >= c:\n",
    "        start = mid + 1\n",
    "    else:\n",
    "        end = mid - 1\n",
    "\n",
    "print(end)"
   ]
  }
 ],
 "metadata": {
  "kernelspec": {
   "display_name": "Python 3",
   "language": "python",
   "name": "python3"
  },
  "language_info": {
   "codemirror_mode": {
    "name": "ipython",
    "version": 3
   },
   "file_extension": ".py",
   "mimetype": "text/x-python",
   "name": "python",
   "nbconvert_exporter": "python",
   "pygments_lexer": "ipython3",
   "version": "3.8.8"
  }
 },
 "nbformat": 4,
 "nbformat_minor": 5
}
