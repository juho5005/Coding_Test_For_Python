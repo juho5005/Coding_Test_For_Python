{
 "cells": [
  {
   "cell_type": "code",
   "execution_count": null,
   "id": "7f3dbd55",
   "metadata": {},
   "outputs": [],
   "source": [
    "import sys\n",
    "n = int(sys.stdin.readline())\n",
    "# 1 <= N <= 1,000,000\n",
    "\n",
    "nums = list(map(int, sys.stdin.readline().split()))\n",
    "# -10^9 <= num <= 10^9\n",
    "\n",
    "start = 0\n",
    "end = len(nums)-1\n",
    "\n",
    "while start <= end:\n",
    "    mid = (start+end) // 2\n",
    "\n",
    "    if nums[mid] == mid:\n",
    "        print(mid)\n",
    "        sys.exit()\n",
    "    elif nums[mid] > mid:\n",
    "        end = mid - 1\n",
    "    else:\n",
    "        start = mid + 1\n",
    "print(-1)"
   ]
  }
 ],
 "metadata": {
  "kernelspec": {
   "display_name": "Python 3",
   "language": "python",
   "name": "python3"
  },
  "language_info": {
   "codemirror_mode": {
    "name": "ipython",
    "version": 3
   },
   "file_extension": ".py",
   "mimetype": "text/x-python",
   "name": "python",
   "nbconvert_exporter": "python",
   "pygments_lexer": "ipython3",
   "version": "3.8.8"
  }
 },
 "nbformat": 4,
 "nbformat_minor": 5
}
