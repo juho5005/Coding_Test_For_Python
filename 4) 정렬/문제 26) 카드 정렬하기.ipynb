{
 "cells": [
  {
   "cell_type": "markdown",
   "id": "c00c84a4",
   "metadata": {},
   "source": [
    "시간 초과를 피하기 위하여\n",
    "삽입, 탐색 시간에 O(logN)이 소요 되는 힙을 사용한 \"우선순위 큐\"를 사용해야한다."
   ]
  },
  {
   "cell_type": "markdown",
   "id": "10ad3a39",
   "metadata": {},
   "source": [
    "문제 풀이 : https://raspy-turnip-f8d.notion.site/Q-26-b4e8fa9d95a3418da4748307df323681"
   ]
  },
  {
   "cell_type": "code",
   "execution_count": null,
   "id": "d1061503",
   "metadata": {},
   "outputs": [],
   "source": [
    "# 카드 정렬하기\n",
    "import heapq  # 삽입, 탐색 시간을 O(logN)에 맞출 수 있다.\n",
    "import sys\n",
    "n = int(sys.stdin.readline())\n",
    "# 1 <= N <= 100,000, O(N), O(NlogN), O(logN), O(1)\n",
    "\n",
    "cards = [\n",
    "    int(sys.stdin.readline())\n",
    "    for _ in range(n)\n",
    "]\n",
    "\n",
    "heap_cards = []\n",
    "for card in cards:\n",
    "    heapq.heappush(heap_cards, card)\n",
    "\n",
    "res = 0\n",
    "while len(heap_cards) != 1:\n",
    "    min1 = heapq.heappop(heap_cards)\n",
    "    min2 = heapq.heappop(heap_cards)\n",
    "\n",
    "    min_sum = min1 + min2\n",
    "\n",
    "    res += min_sum\n",
    "\n",
    "    heapq.heappush(heap_cards, min_sum)\n",
    "\n",
    "print(res)"
   ]
  }
 ],
 "metadata": {
  "kernelspec": {
   "display_name": "Python 3",
   "language": "python",
   "name": "python3"
  },
  "language_info": {
   "codemirror_mode": {
    "name": "ipython",
    "version": 3
   },
   "file_extension": ".py",
   "mimetype": "text/x-python",
   "name": "python",
   "nbconvert_exporter": "python",
   "pygments_lexer": "ipython3",
   "version": "3.8.8"
  }
 },
 "nbformat": 4,
 "nbformat_minor": 5
}
