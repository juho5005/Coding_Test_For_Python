{
 "cells": [
  {
   "cell_type": "markdown",
   "id": "1de4dc90",
   "metadata": {},
   "source": [
    "### 정렬 라이브러리 사용 : O(NlogN)"
   ]
  },
  {
   "cell_type": "code",
   "execution_count": null,
   "id": "4b46ee55",
   "metadata": {},
   "outputs": [],
   "source": [
    "# 하나의 수열에는 다양한 수가 존재.\n",
    "# 수는 크기에 상관없이 나열되 있는 상황\n",
    "# 큰 수부터 작은 수 순서로 정렬하고자 한다.\n",
    "# 수열을 내림차순으로 정렬하시오.\n",
    "\n",
    "import sys\n",
    "n = int(sys.stdin.readline())  # 1<=N<=500 : O(N^3)\n",
    "nums = []\n",
    "\n",
    "for _ in range(n):\n",
    "    nums.append(int(sys.stdin.readline()))\n",
    "\n",
    "print(*sorted(nums, reverse=True))"
   ]
  },
  {
   "cell_type": "markdown",
   "id": "5f3bcb61",
   "metadata": {},
   "source": [
    "### 버블 정렬 사용 : 최악의 경우 O(N^2), 최선의 경우 O(N)"
   ]
  },
  {
   "cell_type": "code",
   "execution_count": null,
   "id": "2a9e56e6",
   "metadata": {},
   "outputs": [],
   "source": []
  },
  {
   "cell_type": "markdown",
   "id": "c1d78407",
   "metadata": {},
   "source": [
    "### 선택 정렬 사용 : 항상 O(N^2)"
   ]
  },
  {
   "cell_type": "code",
   "execution_count": null,
   "id": "532fdd49",
   "metadata": {},
   "outputs": [],
   "source": []
  },
  {
   "cell_type": "markdown",
   "id": "1f397524",
   "metadata": {},
   "source": [
    "### 삽입 정렬 사용 : 최악의 경우 O(N^2), 최선의 경우 O(N)"
   ]
  },
  {
   "cell_type": "code",
   "execution_count": null,
   "id": "9a7ca18a",
   "metadata": {},
   "outputs": [],
   "source": []
  },
  {
   "cell_type": "markdown",
   "id": "d10c580f",
   "metadata": {},
   "source": [
    "### 삽입 정렬 (효율성을 강조한 코드)"
   ]
  },
  {
   "cell_type": "code",
   "execution_count": null,
   "id": "7e6c87ba",
   "metadata": {},
   "outputs": [],
   "source": []
  }
 ],
 "metadata": {
  "kernelspec": {
   "display_name": "Python 3",
   "language": "python",
   "name": "python3"
  },
  "language_info": {
   "codemirror_mode": {
    "name": "ipython",
    "version": 3
   },
   "file_extension": ".py",
   "mimetype": "text/x-python",
   "name": "python",
   "nbconvert_exporter": "python",
   "pygments_lexer": "ipython3",
   "version": "3.8.8"
  }
 },
 "nbformat": 4,
 "nbformat_minor": 5
}
