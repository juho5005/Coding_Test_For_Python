{
 "cells": [
  {
   "cell_type": "code",
   "execution_count": null,
   "id": "7ef0748c",
   "metadata": {},
   "outputs": [],
   "source": [
    "# N명의 학생 정보\n",
    "# 학생 이름, 학생 성적으로 구분\n",
    "# 성적이 낮은 순서대로 학생의 이름을 출력하시오.\n",
    "\n",
    "import sys\n",
    "n = int(sys.stdin.readline()) # 1 <= N <= 100,000 : O(N), O(NlogN), O(logN), O(1)\n",
    "students = []\n",
    "\n",
    "for _ in range(n):\n",
    "    name, age = sys.stdin.readline().rstrip().split()\n",
    "    age = int(age)\n",
    "    students.append((name, age))\n",
    "\n",
    "s_students = sorted(students, key = lambda data: data[1])\n",
    "\n",
    "for elem in s_students:\n",
    "    print(elem[0], end=' ')"
   ]
  }
 ],
 "metadata": {
  "kernelspec": {
   "display_name": "Python 3",
   "language": "python",
   "name": "python3"
  },
  "language_info": {
   "codemirror_mode": {
    "name": "ipython",
    "version": 3
   },
   "file_extension": ".py",
   "mimetype": "text/x-python",
   "name": "python",
   "nbconvert_exporter": "python",
   "pygments_lexer": "ipython3",
   "version": "3.8.8"
  }
 },
 "nbformat": 4,
 "nbformat_minor": 5
}
