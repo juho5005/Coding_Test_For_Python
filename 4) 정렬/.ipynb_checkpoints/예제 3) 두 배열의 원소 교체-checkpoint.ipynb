{
 "cells": [
  {
   "cell_type": "code",
   "execution_count": null,
   "id": "9d21191f",
   "metadata": {},
   "outputs": [],
   "source": [
    "# 두 배열은 N개의 원소로 구성\n",
    "# K번 바꿔치기 가능\n",
    "# 배열 A의 모든 원소의 합이 최대가 되도록 하는 것\n",
    "\n",
    "# 1<=N<=100,000 # 0<=k<=n\n",
    "# O(N), O(NlogN), O(logN), O(1)\n",
    "import sys\n",
    "n, k = tuple(map(int, sys.stdin.readline().split()))\n",
    "\n",
    "a = list(map(int, sys.stdin.readline().split()))\n",
    "b = list(map(int, sys.stdin.readline().split()))\n",
    "\n",
    "# a는 오름차순, b는 내림차순 설정\n",
    "a.sort()\n",
    "b.sort(reverse=True)\n",
    "\n",
    "idx = 0\n",
    "for _ in range(k):\n",
    "    if a[idx] >= b[idx]:\n",
    "        break\n",
    "\n",
    "    # 스와핑\n",
    "    a[idx], b[idx] = b[idx], a[idx]\n",
    "\n",
    "    idx += 1\n",
    "\n",
    "print(sum(a))"
   ]
  }
 ],
 "metadata": {
  "kernelspec": {
   "display_name": "Python 3",
   "language": "python",
   "name": "python3"
  },
  "language_info": {
   "codemirror_mode": {
    "name": "ipython",
    "version": 3
   },
   "file_extension": ".py",
   "mimetype": "text/x-python",
   "name": "python",
   "nbconvert_exporter": "python",
   "pygments_lexer": "ipython3",
   "version": "3.8.8"
  }
 },
 "nbformat": 4,
 "nbformat_minor": 5
}
