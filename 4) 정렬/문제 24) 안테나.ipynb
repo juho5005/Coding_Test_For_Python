{
 "cells": [
  {
   "cell_type": "markdown",
   "id": "79370e50",
   "metadata": {},
   "source": [
    "특정 위치의 집에 한 개의 안테나를 설치\n",
    "안테나로부터 모든 집까지의 거리의 총 합이 최소가 되도록 설치\n",
    "안테나는 집이 위치한 곳에만 설치 가능하다.\n",
    "논리적으로 동일한 위치에 여러 개의 집이 존재하는 것이 가능하다."
   ]
  },
  {
   "cell_type": "markdown",
   "id": "5205ae1d",
   "metadata": {},
   "source": [
    "문제 풀이 : https://raspy-turnip-f8d.notion.site/Q-24-0e2584e257084c8d94c1490ec1c1394d"
   ]
  },
  {
   "cell_type": "code",
   "execution_count": null,
   "id": "c216a7e7",
   "metadata": {},
   "outputs": [],
   "source": [
    "import sys\n",
    "# 1<=N<=200,000 => O(N), O(NlogN), O(logN), O(1)\n",
    "n = int(sys.stdin.readline())\n",
    "homes = list(map(int, sys.stdin.readline().split()))\n",
    "\n",
    "# 주어지는 집들의 위치 오름차순 정렬\n",
    "homes.sort()\n",
    "\n",
    "# N이 홀수일 때 \n",
    "if n % 2 == 1 :\n",
    "    print(homes[n//2])\n",
    "\n",
    "# N이 짝수일 때\n",
    "if n % 2 == 0 :\n",
    "    print(homes[n//2 - 1]) # 중간 값이 될 수 있는 위치 중 최솟값 출력"
   ]
  },
  {
   "cell_type": "markdown",
   "id": "b62e143f",
   "metadata": {},
   "source": [
    "짝수와 홀수를 나누지 않고 한 번에 출력하는 방식"
   ]
  },
  {
   "cell_type": "code",
   "execution_count": null,
   "id": "018b2647",
   "metadata": {},
   "outputs": [],
   "source": [
    "import sys\n",
    "# 1<=N<=200,000 => O(N), O(NlogN), O(logN), O(1)\n",
    "n = int(sys.stdin.readline())\n",
    "homes = list(map(int, sys.stdin.readline().split()))\n",
    "\n",
    "# 주어지는 집들의 위치 오름차순 정렬\n",
    "homes.sort()\n",
    "\n",
    "print(homes[(n-1)//2])"
   ]
  }
 ],
 "metadata": {
  "kernelspec": {
   "display_name": "Python 3",
   "language": "python",
   "name": "python3"
  },
  "language_info": {
   "codemirror_mode": {
    "name": "ipython",
    "version": 3
   },
   "file_extension": ".py",
   "mimetype": "text/x-python",
   "name": "python",
   "nbconvert_exporter": "python",
   "pygments_lexer": "ipython3",
   "version": "3.8.8"
  }
 },
 "nbformat": 4,
 "nbformat_minor": 5
}
