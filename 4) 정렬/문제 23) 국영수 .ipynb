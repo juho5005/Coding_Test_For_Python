{
 "cells": [
  {
   "cell_type": "markdown",
   "id": "340da569",
   "metadata": {},
   "source": [
    "학생 N명의 이름, 국어, 영어, 수학 점수가 주어진다.\n",
    "\n",
    "정렬의 조건\n",
    "1) 국어 점수가 감소하는 순서\n",
    "2) 국어 점수가 같으면 영어 점수가 증가하는 순서\n",
    "3) 국어 점수와 영어 점수가 같으면 수학 점수가 감소하는 순서\n",
    "4) 모든 점수가 같으면 이름이 사전 순으로 증가하는 순서"
   ]
  },
  {
   "cell_type": "code",
   "execution_count": null,
   "id": "01ced790",
   "metadata": {},
   "outputs": [],
   "source": [
    "import sys\n",
    "n = int(sys.stdin.readline())\n",
    "\n",
    "students = [\n",
    "    sys.stdin.readline().rstrip().split()\n",
    "    for _ in range(n)\n",
    "]\n",
    "\n",
    "students.sort(key=lambda data: (-int(data[1]), int(data[2]),\n",
    "                                -int(data[3]), data[0]))\n",
    "\n",
    "for name, _, _, _ in students:\n",
    "    print(name)"
   ]
  }
 ],
 "metadata": {
  "kernelspec": {
   "display_name": "Python 3",
   "language": "python",
   "name": "python3"
  },
  "language_info": {
   "codemirror_mode": {
    "name": "ipython",
    "version": 3
   },
   "file_extension": ".py",
   "mimetype": "text/x-python",
   "name": "python",
   "nbconvert_exporter": "python",
   "pygments_lexer": "ipython3",
   "version": "3.8.8"
  }
 },
 "nbformat": 4,
 "nbformat_minor": 5
}
